{
 "cells": [
  {
   "cell_type": "code",
   "execution_count": 7,
   "metadata": {},
   "outputs": [],
   "source": [
    "import numpy as np\n",
    "import os\n",
    "import glob\n",
    "from scipy.spatial.distance import euclidean\n",
    "#from keras.models import Sequential\n",
    "#from keras.layers import Dense\n",
    "#from keras.models import model_from_json\n",
    "#from keras.optimizers import SGD\n",
    "from scipy.io import loadmat\n",
    "from scipy.io import savemat\n",
    "#from keras.callbacks import ModelCheckpoint\n",
    "import matplotlib.pyplot as plt\n",
    "import tensorflow as tf"
   ]
  },
  {
   "cell_type": "code",
   "execution_count": 8,
   "metadata": {},
   "outputs": [],
   "source": [
    "import take_input as inp"
   ]
  },
  {
   "cell_type": "code",
   "execution_count": 9,
   "metadata": {},
   "outputs": [],
   "source": [
    "X, Y = inp.get_training(\"/home/aayush/speech/VC_CMU_ARCTIC/Z.mat\")"
   ]
  },
  {
   "cell_type": "code",
   "execution_count": 19,
   "metadata": {},
   "outputs": [],
   "source": [
    "# This will reset the computation graph, if some variables are disallowed, run this once\n",
    "tf.reset_default_graph()"
   ]
  },
  {
   "cell_type": "code",
   "execution_count": 20,
   "metadata": {},
   "outputs": [],
   "source": [
    "def generator(z, reuse= None):\n",
    "    # works like a module | see difference between scope and function\n",
    "    # \"reuse\" allows to retain the values of variables inside scope on another call\n",
    "    with tf.variable_scope(\"gen\", reuse= reuse):\n",
    "        # Leak factor\n",
    "        alpha = 0.01\n",
    "        \n",
    "        # \"units\" is the number of nodes in the layer\n",
    "        hidden1 = tf.layers.dense(inputs = z, units = 512)\n",
    "        # leaky relu like\n",
    "        hidden1 = tf.maximum(hidden1, alpha*hidden1)\n",
    "        \n",
    "        hidden2 = tf.layers.dense(inputs = hidden1, units = 512)\n",
    "        hidden2 = tf.maximum(hidden2, alpha*hidden2)\n",
    "        \n",
    "        hidden3 = tf.layers.dense(inputs = hidden2, units = 512)\n",
    "        hidden3 = tf.maximum(hidden3, alpha*hidden3)\n",
    "        \n",
    "        # \"units\" is 784 because (28*28) image. And generator generates an image \n",
    "        output = tf.layers.dense(inputs = hidden3, units = 25, activation = tf.nn.tanh)\n",
    "        \n",
    "        return output"
   ]
  },
  {
   "cell_type": "code",
   "execution_count": 21,
   "metadata": {},
   "outputs": [],
   "source": [
    "def discriminator(X, reuse=None):\n",
    "    #print(real_images.get_shape().as_list())\n",
    "    with tf.variable_scope(\"dis\", reuse= reuse):\n",
    "        alpha = 0.01\n",
    "           \n",
    "        hidden1 = tf.layers.dense(inputs= X, units= 256)\n",
    "        hidden1 = tf.maximum(hidden1, hidden1*alpha)\n",
    "        \n",
    "        hidden2 = tf.layers.dense(inputs= hidden1, units= 256)\n",
    "        hidden2 = tf.maximum(hidden2, hidden2*alpha)\n",
    "        \n",
    "        hidden3 = tf.layers.dense(inputs= hidden2, units= 256)\n",
    "        hidden3 = tf.maximum(hidden3, hidden3*alpha)\n",
    "        \n",
    "        logits = tf.layers.dense(inputs= hidden3, units= 1)\n",
    "        output = tf.sigmoid(logits)\n",
    "        \n",
    "        return output, logits"
   ]
  },
  {
   "cell_type": "code",
   "execution_count": 22,
   "metadata": {},
   "outputs": [],
   "source": [
    "target_feat = tf.placeholder(tf.float32, shape= [None, 25])\n",
    "source_feat = tf.placeholder(tf.float32, shape= [None, 25])"
   ]
  },
  {
   "cell_type": "code",
   "execution_count": 23,
   "metadata": {},
   "outputs": [],
   "source": [
    "generated_feat = generator(source_feat)"
   ]
  },
  {
   "cell_type": "code",
   "execution_count": 24,
   "metadata": {},
   "outputs": [],
   "source": [
    "D_output_target, D_logits_target = discriminator(target_feat)"
   ]
  },
  {
   "cell_type": "code",
   "execution_count": 25,
   "metadata": {},
   "outputs": [
    {
     "name": "stdout",
     "output_type": "stream",
     "text": [
      "[None, 1]\n"
     ]
    }
   ],
   "source": [
    "print(D_logits_target.get_shape().as_list())"
   ]
  },
  {
   "cell_type": "code",
   "execution_count": 26,
   "metadata": {},
   "outputs": [],
   "source": [
    "D_output_generated, D_logits_generated = discriminator(generated_feat, reuse= True)"
   ]
  },
  {
   "cell_type": "code",
   "execution_count": 27,
   "metadata": {},
   "outputs": [],
   "source": [
    "def loss_func(logits_in, labels_in):\n",
    "    cost = tf.reduce_mean(tf.nn.sigmoid_cross_entropy_with_logits(logits= logits_in, labels= labels_in))\n",
    "    return cost"
   ]
  },
  {
   "cell_type": "code",
   "execution_count": 28,
   "metadata": {},
   "outputs": [],
   "source": [
    "D_loss_target = loss_func(D_logits_target, tf.ones_like(D_logits_target))\n",
    "D_loss_generated = loss_func(D_logits_generated, tf.zeros_like(D_logits_target))"
   ]
  },
  {
   "cell_type": "code",
   "execution_count": 29,
   "metadata": {},
   "outputs": [],
   "source": [
    "D_loss = D_loss_target + D_loss_generated"
   ]
  },
  {
   "cell_type": "code",
   "execution_count": 30,
   "metadata": {},
   "outputs": [],
   "source": [
    "G_loss = loss_func(D_logits_generated, tf.ones_like(D_logits_generated))"
   ]
  },
  {
   "cell_type": "code",
   "execution_count": 31,
   "metadata": {},
   "outputs": [],
   "source": [
    "tvars = tf.trainable_variables()\n",
    "\n",
    "d_vars = []\n",
    "g_vars = []\n",
    "\n",
    "for i in range(len(tvars)):\n",
    "    if tvars[i].name[:3] == \"gen\":\n",
    "        g_vars.append(tvars[i])\n",
    "    else:\n",
    "        d_vars.append(tvars[i])"
   ]
  },
  {
   "cell_type": "code",
   "execution_count": 32,
   "metadata": {},
   "outputs": [],
   "source": [
    "learning_rate = 0.001"
   ]
  },
  {
   "cell_type": "code",
   "execution_count": 33,
   "metadata": {},
   "outputs": [],
   "source": [
    "D_trainer = tf.train.AdamOptimizer(learning_rate).minimize(D_loss, var_list = d_vars)"
   ]
  },
  {
   "cell_type": "code",
   "execution_count": 34,
   "metadata": {},
   "outputs": [],
   "source": [
    "G_trainer = tf.train.AdamOptimizer(learning_rate).minimize(G_loss, var_list = g_vars)"
   ]
  },
  {
   "cell_type": "code",
   "execution_count": 35,
   "metadata": {},
   "outputs": [],
   "source": [
    "epochs = 20"
   ]
  },
  {
   "cell_type": "code",
   "execution_count": 36,
   "metadata": {},
   "outputs": [],
   "source": [
    "init = tf.global_variables_initializer()"
   ]
  },
  {
   "cell_type": "code",
   "execution_count": null,
   "metadata": {},
   "outputs": [],
   "source": [
    "with tf.Session() as sess:\n",
    "    sess.run(init)\n",
    "    \n",
    "    for epoch in range(len(X)): \n",
    "        for i in range(num_batches):\n",
    "            batch = mnist.train.next_batch(batch_size)\n",
    "            batch_images = batch[0].reshape((batch_size, 784))\n",
    "            batch_images = batch_images*2-1\n",
    "            \n",
    "            batch_z = np.random.uniform(-1, 1, size= (batch_size, 100))\n",
    "            \n",
    "            _ = sess.run(D_trainer, feed_dict={real_images:batch_images, z: batch_z})\n",
    "            _ = sess.run(G_trainer, feed_dict={z: batch_z})\n",
    "            \n",
    "        print(\"epoch \", epoch , \" completed.\")\n",
    "        sample_z = np.random.uniform(-1, 1, size= (1, 100))\n",
    "        gen_sample = sess.run(generator(z, reuse=True), feed_dict= {z:sample_z})\n",
    "        \n",
    "        samples.append(gen_sample)"
   ]
  }
 ],
 "metadata": {
  "kernelspec": {
   "display_name": "Python 3",
   "language": "python",
   "name": "python3"
  },
  "language_info": {
   "codemirror_mode": {
    "name": "ipython",
    "version": 3
   },
   "file_extension": ".py",
   "mimetype": "text/x-python",
   "name": "python",
   "nbconvert_exporter": "python",
   "pygments_lexer": "ipython3",
   "version": "3.5.2"
  }
 },
 "nbformat": 4,
 "nbformat_minor": 2
}
