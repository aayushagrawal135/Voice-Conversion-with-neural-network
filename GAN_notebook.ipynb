{
 "cells": [
  {
   "cell_type": "code",
   "execution_count": 1,
   "metadata": {},
   "outputs": [],
   "source": [
    "import tensorflow as tf"
   ]
  },
  {
   "cell_type": "code",
   "execution_count": 2,
   "metadata": {},
   "outputs": [],
   "source": [
    "#from tensorflow.examples.tutorials.mnist import input_data"
   ]
  },
  {
   "cell_type": "code",
   "execution_count": 3,
   "metadata": {},
   "outputs": [],
   "source": [
    "import numpy as np\n",
    "import matplotlib.pyplot as plt"
   ]
  },
  {
   "cell_type": "code",
   "execution_count": 4,
   "metadata": {},
   "outputs": [
    {
     "name": "stdout",
     "output_type": "stream",
     "text": [
      "Successfully downloaded train-images-idx3-ubyte.gz 9912422 bytes.\n",
      "Extracting /tmp/data/train-images-idx3-ubyte.gz\n",
      "Successfully downloaded train-labels-idx1-ubyte.gz 28881 bytes.\n",
      "Extracting /tmp/data/train-labels-idx1-ubyte.gz\n",
      "Successfully downloaded t10k-images-idx3-ubyte.gz 1648877 bytes.\n",
      "Extracting /tmp/data/t10k-images-idx3-ubyte.gz\n",
      "Successfully downloaded t10k-labels-idx1-ubyte.gz 4542 bytes.\n",
      "Extracting /tmp/data/t10k-labels-idx1-ubyte.gz\n"
     ]
    }
   ],
   "source": [
    "#mnist = input_data.read_data_sets(\"/tmp/data/\", one_hot= True)"
   ]
  },
  {
   "cell_type": "code",
   "execution_count": 5,
   "metadata": {},
   "outputs": [
    {
     "data": {
      "text/plain": [
       "<matplotlib.image.AxesImage at 0x7f53170f24a8>"
      ]
     },
     "execution_count": 5,
     "metadata": {},
     "output_type": "execute_result"
    },
    {
     "data": {
      "image/png": "[encoded data removed]",
      "text/plain": [
       "<Figure size 432x288 with 1 Axes>"
      ]
     },
     "metadata": {},
     "output_type": "display_data"
    }
   ],
   "source": [
    "#plt.imshow(mnist.train.images[4].reshape(28, 28), cmap = \"Greys\")"
   ]
  },
  {
   "cell_type": "code",
   "execution_count": 6,
   "metadata": {},
   "outputs": [],
   "source": [
    "# This will reset the computation graph, if some variables are disallowed, run this once\n",
    "tf.reset_default_graph()"
   ]
  },
  {
   "cell_type": "code",
   "execution_count": 7,
   "metadata": {},
   "outputs": [],
   "source": [
    "def generator(z, reuse= None):\n",
    "    # works like a module | see difference between scope and function\n",
    "    # \"reuse\" allows to retain the values of variables inside scope on another call\n",
    "    with tf.variable_scope(\"gen\", reuse= reuse):\n",
    "        # Leak factor\n",
    "        alpha = 0.01\n",
    "\n",
    "        # \"units\" is the number of nodes in the layer\n",
    "        hidden1 = tf.layers.dense(inputs = z, units = 128)\n",
    "        # leaky relu like\n",
    "        hidden1 = tf.maximum(hidden1, alpha*hidden1)\n",
    "\n",
    "        hidden2 = tf.layers.dense(inputs = hidden1, units = 128)\n",
    "        hidden2 = tf.maximum(hidden2, alpha*hidden2)\n",
    "\n",
    "        # \"units\" is 784 because (28*28) image. And generator generates an image\n",
    "        output = tf.layers.dense(inputs = hidden2, units = 784, activation = tf.nn.tanh)\n",
    "\n",
    "        return output\n"
   ]
  },
  {
   "cell_type": "code",
   "execution_count": 8,
   "metadata": {},
   "outputs": [],
   "source": [
    "\n",
    "def discriminator(X, reuse=None):\n",
    "    #print(real_images.get_shape().as_list())\n",
    "    with tf.variable_scope(\"dis\", reuse= reuse):\n",
    "        alpha = 0.01\n",
    "\n",
    "        hidden1 = tf.layers.dense(inputs= X, units= 128)\n",
    "        hidden1 = tf.maximum(hidden1, hidden1*alpha)\n",
    "\n",
    "        hidden2 = tf.layers.dense(inputs= hidden1, units= 128)\n",
    "        hidden2 = tf.maximum(hidden2, hidden2*alpha)\n",
    "\n",
    "        logits = tf.layers.dense(inputs= hidden2, units= 1)\n",
    "        output = tf.sigmoid(logits)\n",
    "\n",
    "        return output, logits\n"
   ]
  },
  {
   "cell_type": "code",
   "execution_count": 9,
   "metadata": {},
   "outputs": [],
   "source": [
    "src_speaker = tf.placeholder(tf.float32, shape= [None, 784])\n",
    "#z = tf.placeholder(tf.float32, shape= [None, 100])"
   ]
  },
  {
   "cell_type": "code",
   "execution_count": 10,
   "metadata": {},
   "outputs": [],
   "source": [
    "#G = generator(z)\n",
    "G = generator(src_speaker)"
   ]
  },
  {
   "cell_type": "code",
   "execution_count": 11,
   "metadata": {},
   "outputs": [],
   "source": [
    "D_output_real, D_logits_real = discriminator(real_images)"
   ]
  },
  {
   "cell_type": "code",
   "execution_count": 12,
   "metadata": {},
   "outputs": [],
   "source": [
    "D_output_fake, D_logits_fake = discriminator(G, reuse= True)"
   ]
  },
  {
   "cell_type": "code",
   "execution_count": 13,
   "metadata": {},
   "outputs": [],
   "source": [
    "def loss_func(logits_in, labels_in):\n",
    "    cost = tf.reduce_mean(tf.nn.sigmoid_cross_entropy_with_logits(logits= logits_in, labels= labels_in))\n",
    "    return cost"
   ]
  },
  {
   "cell_type": "code",
   "execution_count": 14,
   "metadata": {},
   "outputs": [],
   "source": [
    "D_loss_real = loss_func(D_logits_real, tf.ones_like(D_logits_real))\n",
    "D_loss_fake = loss_func(D_logits_fake, tf.zeros_like(D_logits_real))"
   ]
  },
  {
   "cell_type": "code",
   "execution_count": 15,
   "metadata": {},
   "outputs": [],
   "source": [
    "D_loss = D_loss_real + D_loss_fake"
   ]
  },
  {
   "cell_type": "code",
   "execution_count": 16,
   "metadata": {},
   "outputs": [],
   "source": [
    "G_loss = loss_func(D_logits_fake, tf.ones_like(D_logits_fake))"
   ]
  },
  {
   "cell_type": "code",
   "execution_count": 17,
   "metadata": {},
   "outputs": [],
   "source": [
    "tvars = tf.trainable_variables()\n",
    "\n",
    "d_vars = []\n",
    "g_vars = []\n",
    "\n",
    "for i in range(len(tvars)):\n",
    "    if tvars[i].name[:3] == \"gen\":\n",
    "        g_vars.append(tvars[i])\n",
    "    else:\n",
    "        d_vars.append(tvars[i])"
   ]
  },
  {
   "cell_type": "code",
   "execution_count": 18,
   "metadata": {},
   "outputs": [],
   "source": [
    "learning_rate = 0.001"
   ]
  },
  {
   "cell_type": "code",
   "execution_count": 19,
   "metadata": {},
   "outputs": [],
   "source": [
    "D_trainer = tf.train.AdamOptimizer(learning_rate).minimize(D_loss, var_list = d_vars)"
   ]
  },
  {
   "cell_type": "code",
   "execution_count": 20,
   "metadata": {},
   "outputs": [],
   "source": [
    "G_trainer = tf.train.AdamOptimizer(learning_rate).minimize(G_loss, var_list = g_vars)"
   ]
  },
  {
   "cell_type": "code",
   "execution_count": 21,
   "metadata": {},
   "outputs": [],
   "source": [
    "epochs = 10\n",
    "batch_size = 100"
   ]
  },
  {
   "cell_type": "code",
   "execution_count": 22,
   "metadata": {},
   "outputs": [],
   "source": [
    "init = tf.global_variables_initializer()"
   ]
  },
  {
   "cell_type": "code",
   "execution_count": 23,
   "metadata": {},
   "outputs": [
    {
     "name": "stdout",
     "output_type": "stream",
     "text": [
      "epoch  0  completed.\n",
      "epoch  1  completed.\n",
      "epoch  2  completed.\n",
      "epoch  3  completed.\n",
      "epoch  4  completed.\n",
      "epoch  5  completed.\n",
      "epoch  6  completed.\n",
      "epoch  7  completed.\n",
      "epoch  8  completed.\n",
      "epoch  9  completed.\n"
     ]
    }
   ],
   "source": [
    "samples = []\n",
    "\n",
    "with tf.Session() as sess:\n",
    "    sess.run(init)\n",
    "\n",
    "    for epoch in range(epochs):\n",
    "        num_batches = int(mnist.train.num_examples/batch_size)\n",
    "\n",
    "        for i in range(num_batches):\n",
    "            batch = mnist.train.next_batch(batch_size)\n",
    "            batch_images = batch[0].reshape((batch_size, 784))\n",
    "            batch_images = batch_images*2-1\n",
    "\n",
    "            batch_z = np.random.uniform(-1, 1, size= (batch_size, 100))\n",
    "\n",
    "            _ = sess.run(D_trainer, feed_dict={real_images:batch_images, z: batch_z})\n",
    "            _ = sess.run(G_trainer, feed_dict={z: batch_z})\n",
    "\n",
    "        print(\"epoch \", epoch , \" completed.\")\n",
    "        sample_z = np.random.uniform(-1, 1, size= (1, 100))\n",
    "        gen_sample = sess.run(generator(z, reuse=True), feed_dict= {z:sample_z})\n",
    "\n",
    "        samples.append(gen_sample)"
   ]
  },
  {
   "cell_type": "code",
   "execution_count": 24,
   "metadata": {},
   "outputs": [
    {
     "data": {
      "image/png": "[encoded data removed]",
      "text/plain": [
       "<Figure size 432x288 with 1 Axes>"
      ]
     },
     "metadata": {},
     "output_type": "display_data"
    }
   ],
   "source": [
    "plt.imshow(samples[9].reshape(28,28), cmap=\"Greys\")\n",
    "plt.show()"
   ]
  },
  {
   "cell_type": "code",
   "execution_count": null,
   "metadata": {},
   "outputs": [],
   "source": []
  }
 ],
 "metadata": {
  "kernelspec": {
   "display_name": "Python 3",
   "language": "python",
   "name": "python3"
  },
  "language_info": {
   "codemirror_mode": {
    "name": "ipython",
    "version": 3
   },
   "file_extension": ".py",
   "mimetype": "text/x-python",
   "name": "python",
   "nbconvert_exporter": "python",
   "pygments_lexer": "ipython3",
   "version": "3.5.2"
  }
 },
 "nbformat": 4,
 "nbformat_minor": 2
}
